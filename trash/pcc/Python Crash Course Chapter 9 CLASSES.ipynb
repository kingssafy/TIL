{
 "cells": [
  {
   "cell_type": "markdown",
   "metadata": {},
   "source": [
    "# Classes\n",
    "- instantitation: making an object from a class\n",
    "you'll work `instances` of class.\n",
    "In this chapter you'll write classes and create instances of those classes.\n",
    "`classes` that represent real-world things and situations, and you create `objects` based on these classes.\n",
    "when you write `class`, you define the general behavior that a whole category of objects can have."
   ]
  },
  {
   "cell_type": "markdown",
   "metadata": {},
   "source": [
    "## Creating and Using a Class\n",
    "You can model almost anything using classes. Let's start by writing a simple class, `dog`, that represents a dog. not one dog in particular, but anydog. they all have a name and age. we also know that most dogs sit and roll over,those two pieces of information(name and age) and those two behaviors(sit and roll over)will go in our `dog` class because they're common to most dogs. This class will tell Python how to make an object representing a dog."
   ]
  },
  {
   "cell_type": "markdown",
   "metadata": {},
   "source": [
    "### Creating the Dog Class\n",
    "Each instance created from the `dog` class will store a `name` and an `age`, and we'll give each dog the ability to `sit()` and `roll_over()`."
   ]
  },
  {
   "cell_type": "code",
   "execution_count": 2,
   "metadata": {},
   "outputs": [],
   "source": [
    "#dog.py\n",
    "class Dog():\n",
    "    \"\"\"A simple attempt to model a dog.\"\"\"\n",
    "    \n",
    "    def __init__(self, name, age):            \n",
    "        \"\"\"Initialize name and age attributes.\"\"\"\n",
    "        self.name = name #4   -> a name in self.name is an attribute\n",
    "        self.age = age\n",
    "    \n",
    "    def sit(self):\n",
    "        \"\"\"Simulate a dog sitting in response to a command.\"\"\"\n",
    "        print(self.name.title() + \" is now sitting.\")\n",
    "        \n",
    "    def roll_over(self):\n",
    "        \"\"\"Simulate rolling over in response to a command.\"\"\"\n",
    "        print(self.name.title() + \" rolled over!\")"
   ]
  },
  {
   "cell_type": "markdown",
   "metadata": {},
   "source": [
    "we define a class called `Dog`. By convention, captalized names refer to classes in Python."
   ]
  },
  {
   "cell_type": "markdown",
   "metadata": {},
   "source": [
    "we write a docstring describing what this class does"
   ]
  },
  {
   "cell_type": "markdown",
   "metadata": {},
   "source": [
    "### The `__init__()` Method\n",
    "a function that's part of a class is a `method`. Everything you learned about functions applies to methods aswell; the only practical difference for now is the way we'll call methods.\n",
    "The `__init__()` method is a special method Python runs automatically whenever we create a new instance based on the `Dog` Class. This Method has two leading underscores and two trailing underscores, a convention that helps prevent Python's default method names from conflicting with your method names.\n",
    "We define the `__init__()` method to have three parameters: `self`, `name`, and `age`. The `self` parameter is required in the method definition, and it must come first before the other parameters. I tmust be included in the definition because when Python calls this `__init__()` method later(to create an instance of `Dog`), the method call will automatically pass the self argument. Every method call associated with a class automatically passes `self`, which is a reference to the instance itself;it gives the individual instance acces to the attributes and methods in the class. -> so when we make an instance of `Dog` we dont have to pass `self`(which is automatically passed), we'll provide values for only the last two parameters `name` and `age`."
   ]
  },
  {
   "cell_type": "markdown",
   "metadata": {},
   "source": [
    "The two variables defined at 4 each have prefix self. Any variable prefixed with `self` is available to every method in the class, and we'll also be able to access these variable through any instance created from the class. self.name = name takes the value stored in the parameter `name` and stores it in the variable `name`.\n",
    "- Variables that are accessible through instances like this are called `attributes`"
   ]
  },
  {
   "cell_type": "markdown",
   "metadata": {},
   "source": [
    "- The `Dog` Class has two other `methods` defined: `sit()` and  `roll_over()`\n",
    "Because these methods don't need additional information, we just define them to have one parameter, `self`"
   ]
  },
  {
   "cell_type": "markdown",
   "metadata": {},
   "source": [
    "#### Creating classes in Python 2.7\n",
    "When you create a class in Python 2.7, you need to make one minor change. You include the term `object` in parentheses when you create a class:"
   ]
  },
  {
   "cell_type": "code",
   "execution_count": null,
   "metadata": {},
   "outputs": [],
   "source": [
    "class ClassName(object):\n",
    "      --snip--"
   ]
  },
  {
   "cell_type": "markdown",
   "metadata": {},
   "source": [
    "This makes Python 2.7 classes behave more like Python 3 classes, which makes you work easier overall."
   ]
  },
  {
   "cell_type": "markdown",
   "metadata": {},
   "source": [
    "### Making an Instance from a class\n",
    "Think of  a class as a set of instruction for how to make an instance. The class `dog` is a set of instructions that tells Python how to make individual instances repressenting specific dogs."
   ]
  },
  {
   "cell_type": "code",
   "execution_count": 4,
   "metadata": {},
   "outputs": [],
   "source": [
    "my_dog = Dog(\"willie\", 6)"
   ]
  },
  {
   "cell_type": "markdown",
   "metadata": {},
   "source": [
    "we tell Python to create a dog whose name is \"willie\" and whose age is 6. when Python reads this line, it calls the `__init__()` method in `Dog` with arguments `'willie'` and `6`. The `__init__()` Method creates an instance representing this particular dog and sets the `name` and `age` attributes using the values we provided."
   ]
  },
  {
   "cell_type": "markdown",
   "metadata": {},
   "source": [
    "The `__init__()` method has no explicit `return` statement, but python automatically returns an instance representing this dog. we store that instance in the variable `my_dog`. The naming convention is helpful here: we can usually assume that a capitalized name like `Dog` refers to a class, and a lowercase like `my_dog` refers to a single instance created from a class."
   ]
  },
  {
   "cell_type": "markdown",
   "metadata": {},
   "source": [
    "### Accessing Attributes\n",
    "To access the attributes of an instance, you use dot notation. \n",
    "for example: we access dogs name like the following one."
   ]
  },
  {
   "cell_type": "code",
   "execution_count": 5,
   "metadata": {},
   "outputs": [
    {
     "name": "stdout",
     "output_type": "stream",
     "text": [
      "My  dog's name is Willie.\n"
     ]
    }
   ],
   "source": [
    "print(\"My  dog's name is \" + my_dog.name.title() + \".\")"
   ]
  },
  {
   "cell_type": "code",
   "execution_count": 7,
   "metadata": {},
   "outputs": [
    {
     "name": "stdout",
     "output_type": "stream",
     "text": [
      "My dog is 6 years old.\n"
     ]
    }
   ],
   "source": [
    "print(\"My dog is \" + str(my_dog.age) + \" years old.\")"
   ]
  },
  {
   "cell_type": "markdown",
   "metadata": {},
   "source": [
    "### Calling Methods\n",
    "After we create an instance from the class `Dog`, we can use dot notation to call any method defined in `Dog`.\n",
    "Let's make our dog sit and roll over."
   ]
  },
  {
   "cell_type": "code",
   "execution_count": 8,
   "metadata": {},
   "outputs": [
    {
     "name": "stdout",
     "output_type": "stream",
     "text": [
      "Willie is now sitting.\n",
      "Willie rolled over!\n"
     ]
    }
   ],
   "source": [
    "my_dog.sit()\n",
    "my_dog.roll_over()"
   ]
  },
  {
   "cell_type": "markdown",
   "metadata": {},
   "source": [
    "### Creating Multiple Instances\n",
    "You can create as many instance from a class as you need."
   ]
  },
  {
   "cell_type": "code",
   "execution_count": 3,
   "metadata": {
    "scrolled": true
   },
   "outputs": [
    {
     "name": "stdout",
     "output_type": "stream",
     "text": [
      "My dog's name is Willie.\n",
      "My dog is 6 years old.\n",
      "Willie is now sitting.\n",
      "\n",
      "Your dog's name is Lucy.\n",
      "Your dog is 3 years old.\n",
      "Lucy is now sitting.\n"
     ]
    }
   ],
   "source": [
    "my_dog = Dog('willie', 6)\n",
    "your_dog = Dog('lucy', 3)\n",
    "\n",
    "print(\"My dog's name is \" + my_dog.name.title() + \".\")\n",
    "print(\"My dog is \" + str(my_dog.age) + \" years old.\")\n",
    "my_dog.sit()\n",
    "\n",
    "print(\"\\nYour dog's name is \" + your_dog.name.title() + \".\")\n",
    "print(\"Your dog is \" + str(your_dog.age) + \" years old.\")\n",
    "your_dog.sit()"
   ]
  },
  {
   "cell_type": "code",
   "execution_count": 4,
   "metadata": {},
   "outputs": [
    {
     "name": "stdout",
     "output_type": "stream",
     "text": [
      "abc\n",
      "western\n",
      "abc western\n",
      "abc is open\n"
     ]
    }
   ],
   "source": [
    "#TIY 9-1\n",
    "#Restaurant.py\n",
    "class Restaurant():\n",
    "    \n",
    "    def __init__(self, restaurant_name, cuisine_type):\n",
    "        self.restaurant_name = restaurant_name\n",
    "        self.cuisine_type = cuisine_type\n",
    "    \n",
    "    def describe_restaurant(self):\n",
    "        print(f\"{self.restaurant_name} {self.cuisine_type}\")\n",
    "        \n",
    "    def open_restaurant(self):\n",
    "        print(f\"{self.restaurant_name} is open\")\n",
    "        \n",
    "abc = Restaurant('abc', 'western')\n",
    "print(abc.restaurant_name)\n",
    "print(abc.cuisine_type)\n",
    "abc.describe_restaurant()\n",
    "abc.open_restaurant()\n",
    "    \n",
    "    "
   ]
  },
  {
   "cell_type": "code",
   "execution_count": 6,
   "metadata": {},
   "outputs": [
    {
     "name": "stdout",
     "output_type": "stream",
     "text": [
      "outback western\n",
      "tgi barbeque\n"
     ]
    }
   ],
   "source": [
    "#TIY 9-2\n",
    "#Three Restaurant\n",
    "outback = Restaurant('outback', 'western')\n",
    "tgi = Restaurant('tgi', 'barbeque')\n",
    "\n",
    "outback.describe_restaurant()\n",
    "tgi.describe_restaurant()"
   ]
  },
  {
   "cell_type": "code",
   "execution_count": 2,
   "metadata": {},
   "outputs": [
    {
     "name": "stdout",
     "output_type": "stream",
     "text": [
      "\n",
      " ---user info ---\n",
      "eric\n",
      "kim\n",
      "19\n",
      "male\n",
      "\n",
      " ---user info ---\n",
      "eunji\n",
      "jung\n",
      "20\n",
      "female\n",
      "Hello, Eric Kim!\n",
      "Hello, Eunji Jung!\n"
     ]
    }
   ],
   "source": [
    "#TIY 9-3\n",
    "#Users\n",
    "class User():\n",
    "    \n",
    "    def __init__(self, first_name, last_name, age, sex):\n",
    "        self.first_name = first_name\n",
    "        self.last_name = last_name\n",
    "        self.age = age\n",
    "        self.sex = sex\n",
    "    \n",
    "    def describe_user(self):\n",
    "        print(f\"\\n ---user info ---\")\n",
    "        print(self.first_name)\n",
    "        print(self.last_name)\n",
    "        print(self.age)\n",
    "        print(self.sex)\n",
    "        \n",
    "    def greet_user(self):\n",
    "        print(f\"Hello, {(self.first_name + ' '  + self.last_name).title()}!\")\n",
    "              \n",
    "kim = User('eric','kim',19,'male')\n",
    "jung = User('eunji','jung',20,'female')\n",
    "kim.describe_user()\n",
    "jung.describe_user()\n",
    "kim.greet_user()\n",
    "jung.greet_user()"
   ]
  },
  {
   "cell_type": "markdown",
   "metadata": {},
   "source": [
    "## Working with Classes and Instances\n",
    "Once your write a class, you'll spend most of your time working with instances created from that class.\n",
    "One of the first task you'll wanna do is modify the attributes fassociated with a particular instance.\n",
    "You can modify the attirubtes of an instance directly or write methods that update attributes in specific ways.\n"
   ]
  },
  {
   "cell_type": "markdown",
   "metadata": {},
   "source": [
    "### The Car Class\n",
    "Our New class will store information about the kind of car we're working with, and it will have a method that summarizes this information:"
   ]
  },
  {
   "cell_type": "code",
   "execution_count": 18,
   "metadata": {},
   "outputs": [
    {
     "name": "stdout",
     "output_type": "stream",
     "text": [
      "2019 Audi A3\n"
     ]
    }
   ],
   "source": [
    "#car.py\n",
    "class Car():\n",
    "    \"\"\"A simple attempt to represent a car.\"\"\"\n",
    "    \n",
    "    def __init__(self, make, model, year):\n",
    "        \"\"\"Initialize attributes to describe a car.\"\"\"\n",
    "        self.make = make\n",
    "        self.model = model\n",
    "        self.year = year\n",
    "        \n",
    "    def get_descriptive_name(self):\n",
    "        \"\"\"Return a neatly formatted descriptive name.\"\"\"\n",
    "        self.long_name = str(self.year) + ' ' + self.make + ' ' + self.model\n",
    "        return self.long_name.title()\n",
    "    \n",
    "my_new_car = Car('audi', 'a3', 2019)\n",
    "print(my_new_car.get_descriptive_name())"
   ]
  },
  {
   "cell_type": "markdown",
   "metadata": {},
   "source": [
    "To make the class more intersresting, let's add an attirubte that changes over time. Wel'' add an attribute that stores the car's overall mileage."
   ]
  },
  {
   "cell_type": "markdown",
   "metadata": {},
   "source": [
    "### Setting a Default Value for an Attribute\n",
    "`Every atrribute in a class needs an initial value`, even if the value is 0 or an emptry string.\n",
    "In some cases, such as when setting a default value, it makes sense to specify this initial value in the body of the `__init__()` method; if you do this for an attribute, you don't have to include a parameter for that attribute.\n",
    "Let's add an attribute called `odometer_reading` that always starts with a value of 0, We'll also add a method `read_odometer()` that helps us read each car's odometer."
   ]
  },
  {
   "cell_type": "code",
   "execution_count": 1,
   "metadata": {},
   "outputs": [
    {
     "name": "stdout",
     "output_type": "stream",
     "text": [
      "2019 Audi A3\n",
      "This car has 0 miles on it.\n"
     ]
    }
   ],
   "source": [
    "#car.py\n",
    "class Car():\n",
    "    \"\"\"A simple attempt to represent a car.\"\"\"\n",
    "    \n",
    "    def __init__(self, make, model, year):\n",
    "        \"\"\"Initialize attributes to describe a car.\"\"\"\n",
    "        self.make = make\n",
    "        self.model = model\n",
    "        self.year = year\n",
    "        \n",
    "        self.odometer_reading = 0   # 1\n",
    "        \n",
    "    def get_descriptive_name(self):\n",
    "        \"\"\"Return a neatly formatted descriptive name.\"\"\"\n",
    "        self.long_name = str(self.year) + ' ' + self.make + ' ' + self.model\n",
    "        return self.long_name.title()\n",
    "\n",
    "    def read_odometer(self):  #2\n",
    "        \"\"\"Print a statement showing the car's mileage.\"\"\"\n",
    "        print(\"This car has \" + str(self.odometer_reading) + \" miles on it.\")\n",
    " \n",
    "\n",
    "my_new_car = Car('audi', 'a3', 2019)\n",
    "print(my_new_car.get_descriptive_name())\n",
    "\n",
    "my_new_car.read_odometer()    # 3"
   ]
  },
  {
   "cell_type": "markdown",
   "metadata": {},
   "source": [
    "This time when Python calls the `__init__()` method to create a new instance, it stores the make, model, and year values as attributes like it did in the previous example. Then Python creates a new attribute called `odometer_reading` and sets its initial value to 0 #1 . We also have a new method called `read_odometer()` at #2 that makes it easy to read a car's mileage.\n",
    "Not many cars sold with exact 0 miles on the odometer, so we need a way to change the value of this attribute."
   ]
  },
  {
   "cell_type": "markdown",
   "metadata": {},
   "source": [
    "### Modifying Attribute Values\n",
    "You can change an attribute's value in three ways:\n",
    "- you can change  the value directly through an instance\n",
    "- set the value through a method\n",
    "- increment the value(add a certain mount to it) through a method"
   ]
  },
  {
   "cell_type": "markdown",
   "metadata": {},
   "source": [
    "#### Modifying an Attribute's Value Driectly\n",
    "The simplest way to modify the value of an attribute is to access the attribute directly through an instance. Here we set the odometer reading to 23 directly."
   ]
  },
  {
   "cell_type": "code",
   "execution_count": 3,
   "metadata": {},
   "outputs": [
    {
     "name": "stdout",
     "output_type": "stream",
     "text": [
      "This car has 23 miles on it.\n"
     ]
    }
   ],
   "source": [
    "my_new_car.odometer_reading = 23\n",
    "my_new_car.read_odometer()"
   ]
  },
  {
   "cell_type": "markdown",
   "metadata": {},
   "source": [
    "We use dot notation to access the car's odometer)reading attribute and set its value directly. This line tells Python to take the instance `my_new_car`, find the attribute `odometer_reading` associated with it, and set the value of that attribute to 23."
   ]
  },
  {
   "cell_type": "markdown",
   "metadata": {},
   "source": [
    "#### Modifying an Attribute's Value Through a Method\n",
    "It can be helpful to have methods that update certain attributes for you. Instead of accesing the attribute directly, you pass the new value to a method that handles the updating internally.\n",
    "\n",
    "\n",
    "\n",
    "\n",
    "\n"
   ]
  },
  {
   "cell_type": "code",
   "execution_count": 5,
   "metadata": {},
   "outputs": [
    {
     "name": "stdout",
     "output_type": "stream",
     "text": [
      "2019 Audi A3\n"
     ]
    }
   ],
   "source": [
    "class Car():\n",
    "    \"\"\"A simple attempt to represent a car.\"\"\"\n",
    "    \n",
    "    def __init__(self, make, model, year):\n",
    "        \"\"\"Initialize attributes to describe a car.\"\"\"\n",
    "        self.make = make\n",
    "        self.model = model\n",
    "        self.year = year\n",
    "        self.odometer_reading = 0\n",
    "        \n",
    "    def get_descriptive_name(self):\n",
    "        \"\"\"Return a neatly formatted descriptive name.\"\"\"\n",
    "        self.long_name = str(self.year) + ' ' + self.make + ' ' + self.model\n",
    "        return self.long_name.title()\n",
    "\n",
    "    def read_odometer(self):  \n",
    "        \"\"\"Print a statement showing the car's mileage.\"\"\"\n",
    "        print(\"This car has \" + str(self.odometer_reading) + \" miles on it.\")\n",
    "        \n",
    "    def update_odometer(self, mileage):    # 1\n",
    "        \"\"\"Set the odometer reading to the given value.\"\"\"\n",
    "        self.odometer_reading = mileage\n",
    " \n",
    "\n",
    "my_new_car = Car('audi', 'a3', 2019)\n",
    "print(my_new_car.get_descriptive_name())"
   ]
  },
  {
   "cell_type": "markdown",
   "metadata": {},
   "source": [
    "The only modification to `Car` is the addition of `update_odometer()` at #1. This method takes in a mileage value and stores it in `self.odometer_reading`. "
   ]
  },
  {
   "cell_type": "code",
   "execution_count": 6,
   "metadata": {},
   "outputs": [
    {
     "name": "stdout",
     "output_type": "stream",
     "text": [
      "This car has 23 miles on it.\n"
     ]
    }
   ],
   "source": [
    "my_new_car.update_odometer(23)    # 2 \n",
    "my_new_car.read_odometer()"
   ]
  },
  {
   "cell_type": "markdown",
   "metadata": {},
   "source": [
    "we call `update_odometer()` and give it `23` as an argument(corresponding to the `mileage` parameter in the method definition). It sets the odometer reading to 23. and `read_odometer()` prints the reading."
   ]
  },
  {
   "cell_type": "markdown",
   "metadata": {},
   "source": [
    "We can extend the method `update_odometer()` to do additional work every time the `odometer_reading` is modified."
   ]
  },
  {
   "cell_type": "code",
   "execution_count": null,
   "metadata": {},
   "outputs": [],
   "source": [
    "    def update_odometer(self, mileage):    # 1\n",
    "        \"\"\"Set the odometer reading to the given value.\n",
    "        Reject the change if it attempts to roll the odometer back.\n",
    "        \"\"\"\n",
    "        if mileage >= self.odometer_reading:\n",
    "            self.odometer_reading = mileage\n",
    "        else:\n",
    "            print(\"You can't roll back an odometer!\")"
   ]
  },
  {
   "cell_type": "markdown",
   "metadata": {},
   "source": [
    "#### Incrementing an Attribute's Value Through a Method\n",
    "Sometimes you'll want to increment an attribute's value by a certain amount rather than set an entirely new value.\n",
    "Say we buy a used car and put 100 miles n it between the time we buy it and the time we register it."
   ]
  },
  {
   "cell_type": "code",
   "execution_count": 5,
   "metadata": {},
   "outputs": [
    {
     "name": "stdout",
     "output_type": "stream",
     "text": [
      "2013 Subaru Outback\n",
      "This car has 23600 miles on it.\n"
     ]
    }
   ],
   "source": [
    "class Car():\n",
    "    \"\"\"A simple attempt to represent a car.\"\"\"\n",
    "    \n",
    "    def __init__(self, make, model, year):\n",
    "        \"\"\"Initialize attributes to describe a car.\"\"\"\n",
    "        self.make = make\n",
    "        self.model = model\n",
    "        self.year = year\n",
    "        self.odometer_reading = 0\n",
    "        \n",
    "    def get_descriptive_name(self):\n",
    "        \"\"\"Return a neatly formatted descriptive name.\"\"\"\n",
    "        self.long_name = str(self.year) + ' ' + self.make + ' ' + self.model\n",
    "        return self.long_name.title()\n",
    "\n",
    "    def read_odometer(self):  \n",
    "        \"\"\"Print a statement showing the car's mileage.\"\"\"\n",
    "        print(\"This car has \" + str(self.odometer_reading) + \" miles on it.\")\n",
    "        \n",
    "    def update_odometer(self, mileage):    \n",
    "        \"\"\"Set the odometer reading to the given value.\"\"\"\n",
    "        self.odometer_reading = mileage\n",
    "        \n",
    "    def increment_odometer(self, miles):\n",
    "        \"\"\"Add the given amount to the odometer reading\"\"\" #1\n",
    "        self.odometer_reading += miles\n",
    "\n",
    "my_used_car = Car('subaru', 'outback', 2013) #2 \n",
    "print(my_used_car.get_descriptive_name())\n",
    "\n",
    "my_used_car.update_odometer(23500) #3\n",
    "my_used_car.read_odometer\n",
    "my_used_car.increment_odometer(100) #4\n",
    "my_used_car.read_odometer()"
   ]
  },
  {
   "cell_type": "markdown",
   "metadata": {},
   "source": [
    "The new method `increment_odometer()` at #1 takes in number of miles, and adds this value to `self.odometer_reading`. at #2 we create a used car, `my_used_car`. We set its odometer to 23,500 by calling `update_odometer()` and passing it `23500` at #3. at #4 we call `increment_odometer()` and pass it `100` to add the 100miles that we drove between buying the car and registering it."
   ]
  },
  {
   "cell_type": "markdown",
   "metadata": {},
   "source": [
    "You can easily modify this method to reject negative increments so no one uses this function to roll back an odometer."
   ]
  },
  {
   "cell_type": "markdown",
   "metadata": {},
   "source": [
    "** You can use methods like this to control how users of your program update values, such as an odometer reading, but anyone with access to the program can set the odometer reading to any value by accessing the attribute directly. Effective security takes extreme attention to detail in addition to basic checks like those shown here. **"
   ]
  },
  {
   "cell_type": "code",
   "execution_count": 7,
   "metadata": {},
   "outputs": [
    {
     "name": "stdout",
     "output_type": "stream",
     "text": [
      "0\n",
      "100\n",
      "222\n",
      "333\n"
     ]
    }
   ],
   "source": [
    "#TIY9-4. Number Served\n",
    "#TIY 9-1\n",
    "#Restaurant.py\n",
    "class Restaurant():\n",
    "    \n",
    "    def __init__(self, restaurant_name, cuisine_type):\n",
    "        self.restaurant_name = restaurant_name\n",
    "        self.cuisine_type = cuisine_type\n",
    "        self.number_served = 0   #1\n",
    "    \n",
    "    def describe_restaurant(self):\n",
    "        print(f\"{self.restaurant_name} {self.cuisine_type}\")\n",
    "        \n",
    "    def open_restaurant(self):\n",
    "        print(f\"{self.restaurant_name} is open\")\n",
    "# ---        \n",
    "    def set_number_served(self, number_served):\n",
    "        \"\"\"update number_served\"\"\"\n",
    "        self.number_served = number_served\n",
    "    \n",
    "    def increment_number_served(self, increment):\n",
    "        \"\"\"increment number_served\"\"\"\n",
    "        self.number_served += increment\n",
    "\n",
    "        \n",
    "restaurant = Restaurant('WHOPPER', 'WESTERN')\n",
    "\n",
    "print(restaurant.number_served)\n",
    "restaurant.number_served = 100\n",
    "print(restaurant.number_served)\n",
    "\n",
    "restaurant.set_number_served(222)\n",
    "print(restaurant.number_served)\n",
    "\n",
    "restaurant.increment_number_served(111)\n",
    "print(restaurant.number_served)\n",
    "    \n",
    "    "
   ]
  },
  {
   "cell_type": "code",
   "execution_count": 11,
   "metadata": {},
   "outputs": [
    {
     "name": "stdout",
     "output_type": "stream",
     "text": [
      "4\n",
      "0\n"
     ]
    }
   ],
   "source": [
    "#TIY 9-5\n",
    "#TIY 9-3\n",
    "#Users\n",
    "class User():\n",
    "    \n",
    "    def __init__(self, first_name, last_name, age, sex):\n",
    "        self.first_name = first_name\n",
    "        self.last_name = last_name\n",
    "        self.age = age\n",
    "        self.sex = sex\n",
    "        self.login_attempts = 0 #added\n",
    "    \n",
    "    def describe_user(self):\n",
    "        print(f\"\\n ---user info ---\")\n",
    "        print(self.first_name)\n",
    "        print(self.last_name)\n",
    "        print(self.age)\n",
    "        print(self.sex)\n",
    "        \n",
    "    def greet_user(self):\n",
    "        print(f\"Hello, {(self.first_name + ' '  + self.last_name).title()}!\")\n",
    "              \n",
    "# --- added from here\n",
    "    def increment_login_attempts(self):\n",
    "        \"\"\"increment login attempts by 1\"\"\"\n",
    "        self.login_attempts += 1\n",
    "    def reset_login_attempts(self):\n",
    "        self.login_attempts = 0\n",
    "\n",
    "user = User('eric', 'kim', 28, 'male')\n",
    "\n",
    "user.increment_login_attempts()\n",
    "user.increment_login_attempts()\n",
    "user.increment_login_attempts()\n",
    "user.increment_login_attempts()\n",
    "print(user.login_attempts)\n",
    "\n",
    "user.reset_login_attempts()\n",
    "print(user.login_attempts)\n",
    "    "
   ]
  },
  {
   "cell_type": "markdown",
   "metadata": {},
   "source": [
    "## Inheritance\n",
    "You don't always have to start from scratch when writing a class. If the class you're writing is specialized version of anothe r class you wrote, you can use `inheritance`. When one class `inherits` from another, it automatically takes on all the attributes and methods of the first class. The original class is called `the parent class`, and the new class is the `child class`.  The `child class` inherits every attributes and method from its parent class but it also free to define new attributes and methods of its own."
   ]
  },
  {
   "cell_type": "code",
   "execution_count": null,
   "metadata": {},
   "outputs": [],
   "source": [
    "### The `__init__()` Method for a Child Class\n"
   ]
  },
  {
   "cell_type": "code",
   "execution_count": 2,
   "metadata": {},
   "outputs": [],
   "source": [
    "class Car():                                                           #1\n",
    "    \"\"\"A simple attempt to represent a car.\"\"\"\n",
    "    \n",
    "    def __init__(self, make, model, year):\n",
    "        \"\"\"Initialize attributes to describe a car.\"\"\"\n",
    "        self.make = make\n",
    "        self.model = model\n",
    "        self.year = year\n",
    "        self.odometer_reading = 0\n",
    "        \n",
    "    def get_descriptive_name(self):\n",
    "        \"\"\"Return a neatly formatted descriptive name.\"\"\"\n",
    "        self.long_name = str(self.year) + ' ' + self.make + ' ' + self.model\n",
    "        return self.long_name.title()\n",
    "\n",
    "    def read_odometer(self):  \n",
    "        \"\"\"Print a statement showing the car's mileage.\"\"\"\n",
    "        print(\"This car has \" + str(self.odometer_reading) + \" miles on it.\")\n",
    "        \n",
    "    def update_odometer(self, mileage):    \n",
    "        \"\"\"Set the odometer reading to the given value.\"\"\"\n",
    "        self.odometer_reading = mileage\n",
    "        \n",
    "    def increment_odometer(self, miles):\n",
    "        \"\"\"Add the given amount to the odometer reading\"\"\" \n",
    "        self.odometer_reading += miles"
   ]
  },
  {
   "cell_type": "markdown",
   "metadata": {},
   "source": [
    "At #1 we started with `Car`. When you create a child class, the parent class must be part of current file and must appear before the child class in the file."
   ]
  },
  {
   "cell_type": "code",
   "execution_count": 4,
   "metadata": {},
   "outputs": [
    {
     "name": "stdout",
     "output_type": "stream",
     "text": [
      "2016 Tesla Model S\n",
      "<class '__main__.ElectricCar'>\n"
     ]
    }
   ],
   "source": [
    "class ElectricCar(Car):                                                  # 2\n",
    "    \"\"\"Represent aspects of a car, specific to electric vehicles.\"\"\"    \n",
    "    def __init__(self, make, model, year):                               # 3\n",
    "        \"\"\"Initialize attribute of the parent class.\"\"\"\n",
    "        super().__init__(make, model, year)                              # 4\n",
    "        \n",
    "my_tesla = ElectricCar('tesla', 'model s', 2016)                         # 5\n",
    "print(my_tesla.get_descriptive_name())\n",
    "print(type(my_tesla))"
   ]
  },
  {
   "cell_type": "markdown",
   "metadata": {},
   "source": [
    "At #2 we define the child class, `ElectricCar`. The name of the parent class must be included in parentheses in the definition of the child class"
   ]
  },
  {
   "cell_type": "markdown",
   "metadata": {},
   "source": [
    "The `__init__()` method at #3 takes in the information required to make a `Car` instance."
   ]
  },
  {
   "cell_type": "markdown",
   "metadata": {},
   "source": [
    "The `super()`function at #4 is a special function that helps Python make connections between the parent and child class. This line tells Python make connections between the parent and child class. This line tells Pythn to call the `__init__()` method from `ElectricCar`'s parent class, which gives an `ElectricCar` instance all the attributes of its parent class. The name `super` comes from a convention of calling the parent class a `superclass` and the child class a `subclasss`"
   ]
  },
  {
   "cell_type": "markdown",
   "metadata": {},
   "source": [
    "There's no attributes or methods yet that are particular to an electric car. At this point we're just making sure the electric car has the appropriate `Car` behaviors."
   ]
  },
  {
   "cell_type": "markdown",
   "metadata": {},
   "source": [
    "### Inheritance in Python 2.7\n",
    "in Python 2.7, inheritance is slightly different. The `ElectricCar`class would look like this:"
   ]
  },
  {
   "cell_type": "code",
   "execution_count": null,
   "metadata": {},
   "outputs": [],
   "source": [
    "class Car(object):\n",
    "    def__init(self, make, model, year):\n",
    "        --snip--\n",
    "\n",
    "class ElectricCar(Car):\n",
    "    def __init__(self, make, model, year):\n",
    "        super(ElectricCar,self).__init(make,model,year)\n",
    "        --snip--"
   ]
  },
  {
   "cell_type": "markdown",
   "metadata": {},
   "source": [
    "The `super()` function needs two arguments: a reference to the child class and the `self` object. These arguments are neccessary to help Python make proper connections between the parent and child classes. When you use inheritance in Python 2.7, make sure you define the parent class using the `object` syntax as well. "
   ]
  },
  {
   "cell_type": "markdown",
   "metadata": {},
   "source": [
    "### Defining Attiributes and Methods for the Child Class\n",
    "Once you have a child class that inherits from a parent class, you can add any new attributes and methods necessary to differentiate the class from the parent class\n",
    "\n",
    "Let's add an attribute that's specific to electric cars and a method to report this attribute"
   ]
  },
  {
   "cell_type": "code",
   "execution_count": 5,
   "metadata": {},
   "outputs": [
    {
     "name": "stdout",
     "output_type": "stream",
     "text": [
      "2016 Tesla Model S\n",
      "This car has a 70-kWh battery.\n"
     ]
    }
   ],
   "source": [
    "# class Car():\n",
    "#    --snip--\n",
    "\n",
    "class ElectricCar(Car):                                                  \n",
    "    \"\"\"Represent aspects of a car, specific to electric vehicles.\"\"\"    \n",
    "    def __init__(self, make, model, year):                               \n",
    "        \"\"\"\n",
    "        Initialize attribute of the parent class.\n",
    "        Then initialize attributes specific to an electric car.\n",
    "        \"\"\"\n",
    "        super().__init__(make, model, year)                              \n",
    "        self.battery_size =70                                          #1\n",
    "        \n",
    "    def describe_battery(self):                                        #2\n",
    "        \"\"\"Print a statement describing the battery size.\"\"\"\n",
    "        print(\"This car has a \" + str(self.battery_size) + \"-kWh battery.\")\n",
    "        \n",
    "my_tesla = ElectricCar('tesla', 'model s', 2016)    \n",
    "print(my_tesla.get_descriptive_name())\n",
    "my_tesla.describe_battery()"
   ]
  },
  {
   "cell_type": "markdown",
   "metadata": {},
   "source": [
    "at #1  we add a new attribute `self.battery_size` and set its initial value to `70`.  This attribute will be associated with all instances created from the `ElectricCar` class but won't be associated with any instances of `Car`. We also add a method called `describe_battery()` that prints information about the battery at #2. When we call this method, we get a description that is cleary specific to an electric car."
   ]
  },
  {
   "cell_type": "markdown",
   "metadata": {},
   "source": [
    "### Overriding Methods from the Parent Class\n",
    "You can override any method from the parent class that doesn't fit what you're trying to model with the child class. To do this, you define a method in the child class with the same name as the method you want to override in the parent class. Python will disregard the parent class method and only pay attention to the method you define in the child class. \n",
    "    Say the class `Car` had a emthod called `fill_gas_tank()`. This method is meaningless for an all-electric vehicle. so you might want to override this method. Here's one way to do that:"
   ]
  },
  {
   "cell_type": "code",
   "execution_count": null,
   "metadata": {},
   "outputs": [],
   "source": [
    "def ElectricCar(Car):\n",
    "    --snip--\n",
    "    \n",
    "    def fill_gas_tank:\n",
    "        \"\"\"Electric cars don't have gas tanks.\"\"\"\n",
    "        print(\"This car doesn't need a gas tnak!\")"
   ]
  },
  {
   "cell_type": "markdown",
   "metadata": {},
   "source": [
    "You can make your child classes retain what you need and override anything you don't need from the parent class."
   ]
  },
  {
   "cell_type": "markdown",
   "metadata": {},
   "source": [
    "### Instances as Attributes.\n",
    "When modeling something from the real world in code, you may find that you're adding more and more detail to a class. you'll find that you have a growing list of attributes and methods and that your files are becoming lengthy. In this situations, you might recognize that part of one class can be written as a separate class. You can break your large class into smaller class that work together.\n"
   ]
  },
  {
   "cell_type": "code",
   "execution_count": 7,
   "metadata": {},
   "outputs": [
    {
     "name": "stdout",
     "output_type": "stream",
     "text": [
      "2016 Tesla Model S\n",
      "This car has a 70-kWh battery.\n"
     ]
    }
   ],
   "source": [
    "class Car():\n",
    "    \"\"\"A simple attempt to represent a car.\"\"\"\n",
    "    \n",
    "    def __init__(self, make, model, year):\n",
    "        \"\"\"Initialize attributes to describe a car.\"\"\"\n",
    "        self.make = make\n",
    "        self.model = model\n",
    "        self.year = year\n",
    "        self.odometer_reading = 0\n",
    "        \n",
    "    def get_descriptive_name(self):\n",
    "        \"\"\"Return a neatly formatted descriptive name.\"\"\"\n",
    "        self.long_name = str(self.year) + ' ' + self.make + ' ' + self.model\n",
    "        return self.long_name.title()\n",
    "\n",
    "    def read_odometer(self):  \n",
    "        \"\"\"Print a statement showing the car's mileage.\"\"\"\n",
    "        print(\"This car has \" + str(self.odometer_reading) + \" miles on it.\")\n",
    "        \n",
    "    def update_odometer(self, mileage):    \n",
    "        \"\"\"Set the odometer reading to the given value.\"\"\"\n",
    "        self.odometer_reading = mileage\n",
    "\n",
    "class Battery():#1\n",
    "    \"\"\"A simple attempt to model a battery for an electric car.\"\"\"\n",
    "\n",
    "    def __init__(self, battery_size=70):#2\n",
    "        \"\"\"initialize the battery's attributes.\"\"\"\n",
    "        self.battery_size = battery_size\n",
    "            \n",
    "    def describe_battery(self):#3\n",
    "        \"\"\"Print a statement describing the battery size.\"\"\"\n",
    "        print(\"This car has a \" + str(self.battery_size) + \"-kWh battery.\")\n",
    "\n",
    "class ElectricCar(Car):\n",
    "    \"\"\"Represent aspects of a car, specific to electric vehicle.\"\"\"\n",
    "    \n",
    "    def __init__(self, make, model, year):\n",
    "        \"\"\"\n",
    "        initialize attributes of the parent class.\n",
    "        Then initialize attributes specific to an electric car.\n",
    "        \"\"\"\n",
    "        super().__init__(make, model, year)\n",
    "        self.battery = Battery()#4\n",
    "\n",
    "my_tesla = ElectricCar('tesla', 'model s', 2016)\n",
    "\n",
    "print(my_tesla.get_descriptive_name())\n",
    "my_tesla.battery.describe_battery()"
   ]
  },
  {
   "cell_type": "markdown",
   "metadata": {},
   "source": [
    "At #1 we define a new class called `Battery` that doesn't inherit from any other class. The `__init__()` method at #2 has one parameter that sets the battery's size to addtion to `self`. This is an optional parameter that sets the battery's size to 70, if no value is provided. The method `describe_battery()` to this class as well #3."
   ]
  },
  {
   "cell_type": "markdown",
   "metadata": {},
   "source": [
    "In the `ElectricCar class`, we now add an attribute called `self.battery`. This line tells Python to create a new instance of `Battery`(with default size of 70, because we're not specifying a value) and store that instance in the attirubte `self.battery`. This will happen every time the `__init__()` method is called; any `ElectricCar` instance will now have a `Battery` instance created automatically."
   ]
  },
  {
   "cell_type": "markdown",
   "metadata": {},
   "source": [
    "We create an electric car and store it in the variable `my_tesla`. When we want to describe the battery, we need to work through the car's battery attribute:"
   ]
  },
  {
   "cell_type": "code",
   "execution_count": 4,
   "metadata": {},
   "outputs": [
    {
     "name": "stdout",
     "output_type": "stream",
     "text": [
      "This car has a 70-kWh battery.\n"
     ]
    }
   ],
   "source": [
    "my_tesla.battery.describe_battery()"
   ]
  },
  {
   "cell_type": "markdown",
   "metadata": {},
   "source": [
    "This line tells Python to look at the instance `my_tesla`, find its `battery`  attribute, and call the method `describe_battery()` that's associated with the `Battery` instance stored in the attribute."
   ]
  },
  {
   "cell_type": "markdown",
   "metadata": {},
   "source": [
    "The output is identical to what we saw previsouly"
   ]
  },
  {
   "cell_type": "markdown",
   "metadata": {},
   "source": [
    "This look slike a lot of extra work, but now we can describe the battery in as much detail as want without cluttering the `ElectricCar` class. Let's add another method to `Battery` that reports the range of the car based on the battery size:"
   ]
  },
  {
   "cell_type": "code",
   "execution_count": 6,
   "metadata": {},
   "outputs": [],
   "source": [
    "class Battery():\n",
    "    \"\"\"A simple attempt to model a battery for an electric car.\"\"\"\n",
    "\n",
    "    def __init__(self, battery_size=70):\n",
    "        \"\"\"initialize the battery's attributes.\"\"\"\n",
    "        self.battery_size = battery_size\n",
    "            \n",
    "    def describe_battery(self):\n",
    "        \"\"\"Print a statement describing the battery size.\"\"\"\n",
    "        print(\"This car has a \" + str(self.battery_size) + \"-kWh battery.\")\n",
    "    \n",
    "    def get_range(self):\n",
    "        \"\"\"Print a statement about the range this battery provides.\"\"\"\n",
    "        if self.battery_size == 70:\n",
    "            range = 240\n",
    "        else:\n",
    "            range = 270\n",
    "        \n",
    "        message = \"This car can go approximately \" + str(range)\n",
    "        message += \" miles on a full charge\"\n",
    "        print(message)"
   ]
  },
  {
   "cell_type": "code",
   "execution_count": 8,
   "metadata": {},
   "outputs": [
    {
     "name": "stdout",
     "output_type": "stream",
     "text": [
      "This car can go approximately 240 miles on a full charge\n"
     ]
    }
   ],
   "source": [
    "my_tesla.battery.get_range()"
   ]
  },
  {
   "cell_type": "markdown",
   "metadata": {},
   "source": [
    "The new method get_range() at performs some simple analysis. If the battery's capacity is 70 kWh, `get_range()` sets the range to 240 miles, and if the capacity is 85Kwh, it sets the rage to 270 miles, It then reports this value. When we want to use this method, we again have to call it through the car's `battery` attribute."
   ]
  },
  {
   "cell_type": "markdown",
   "metadata": {},
   "source": [
    "### Modeling Real-World Objects\n",
    "how we make get_range() method works both Car and ElectricCar class"
   ]
  },
  {
   "cell_type": "code",
   "execution_count": 25,
   "metadata": {},
   "outputs": [
    {
     "name": "stdout",
     "output_type": "stream",
     "text": [
      "['vanila', 'strawberry']\n"
     ]
    }
   ],
   "source": [
    "#TIY9-6 Ice Cream Stand\n",
    "#TIY9-1\n",
    "class Restaurant():\n",
    "    \n",
    "    def __init__(self, restaurant_name, cuisine_type):\n",
    "        self.restaurant_name = restaurant_name\n",
    "        self.cuisine_type = cuisine_type\n",
    "    \n",
    "    def describe_restaurant(self):\n",
    "        print(f\"{self.restaurant_name} {self.cuisine_type}\")\n",
    "        \n",
    "    def open_restaurant(self):\n",
    "        print(f\"{self.restaurant_name} is open\")\n",
    "#---\n",
    "class IceCreamStand(Restaurant):\n",
    "    \n",
    "    def __init__(self,restaurant_name, cuisine_type, *flavors):\n",
    "        \n",
    "        super().__init__(restaurant_name, cuisine_type)\n",
    "        self.flavors = list(flavors)\n",
    "        \n",
    "    def display_flavors(self):\n",
    "        print(self.flavors)\n",
    "\n",
    "br = IceCreamStand(\"b\",\"ice\",\"vanila\",\"strawberry\")\n",
    "br.display_flavors()\n",
    "    "
   ]
  },
  {
   "cell_type": "code",
   "execution_count": 28,
   "metadata": {},
   "outputs": [
    {
     "name": "stdout",
     "output_type": "stream",
     "text": [
      "['can add post', 'can delete post', 'can ban user']\n"
     ]
    }
   ],
   "source": [
    "#TIY9-7 Admin\n",
    "#TIY9-3\n",
    "#Users\n",
    "class User():\n",
    "    \n",
    "    def __init__(self, first_name, last_name, age, sex):\n",
    "        self.first_name = first_name\n",
    "        self.last_name = last_name\n",
    "        self.age = age\n",
    "        self.sex = sex\n",
    "    \n",
    "    def describe_user(self):\n",
    "        print(f\"\\n ---user info ---\")\n",
    "        print(self.first_name)\n",
    "        print(self.last_name)\n",
    "        print(self.age)\n",
    "        print(self.sex)\n",
    "        \n",
    "    def greet_user(self):\n",
    "        print(f\"Hello, {(self.first_name + ' '  + self.last_name).title()}!\")\n",
    "\n",
    "#---\n",
    "class Admin(User):\n",
    "    \n",
    "    def __init__(self, first_name, last_name, age, sex):\n",
    "              \n",
    "        super().__init__(first_name, last_name, age, sex)\n",
    "        self.privileges = [\"can add post\", \"can delete post\", \"can ban user\"]\n",
    "    \n",
    "    def show_privileges(self):\n",
    "        print(self.privileges)\n",
    "        \n",
    "abc = Admin(\"KIM\",\"SANGKEUN\",27,\"male\")\n",
    "abc.show_privileges()"
   ]
  },
  {
   "cell_type": "code",
   "execution_count": 32,
   "metadata": {
    "scrolled": true
   },
   "outputs": [
    {
     "data": {
      "text/plain": [
       "['can add post', 'can delete post', 'can ban user']"
      ]
     },
     "execution_count": 32,
     "metadata": {},
     "output_type": "execute_result"
    }
   ],
   "source": [
    "#TIY9-8\n",
    "class Privileges():\n",
    "    \n",
    "    def __init__(self):\n",
    "        self.privileges = [\"can add post\",\n",
    "                           \"can delete post\", \"can ban user\"]\n",
    "    \n",
    "    def show_privileges(self):\n",
    "        print(self.privileges)\n",
    "        \n",
    "class User():\n",
    "    \n",
    "    def __init__(self, first_name, last_name, age, sex):\n",
    "        self.first_name = first_name\n",
    "        self.last_name = last_name\n",
    "        self.age = age\n",
    "        self.sex = sex\n",
    "    \n",
    "    def describe_user(self):\n",
    "        print(f\"\\n ---user info ---\")\n",
    "        print(self.first_name)\n",
    "        print(self.last_name)\n",
    "        print(self.age)\n",
    "        print(self.sex)\n",
    "        \n",
    "    def greet_user(self):\n",
    "        print(f\"Hello, {(self.first_name + ' '  + self.last_name).title()}!\")\n",
    "\n",
    "\n",
    "class Admin(User):\n",
    "    \n",
    "    def __init__(self, first_name, last_name, age, sex):\n",
    "              \n",
    "        super().__init__(first_name, last_name, age, sex)\n",
    "        self.privileges = Privileges()\n",
    "\n",
    "admin = Admin(\"eric\", \"KIM\", 29, \"male\")\n",
    "admin.privileges.privileges"
   ]
  },
  {
   "cell_type": "code",
   "execution_count": 34,
   "metadata": {},
   "outputs": [
    {
     "name": "stdout",
     "output_type": "stream",
     "text": [
      "This car can go approximately 240 miles on a full charge\n",
      "upgrade complete\n",
      "This car can go approximately 270 miles on a full charge\n"
     ]
    }
   ],
   "source": [
    "#9-9Battery Upgrade\n",
    "class Car():\n",
    "    \"\"\"A simple attempt to represent a car.\"\"\"\n",
    "    \n",
    "    def __init__(self, make, model, year):\n",
    "        \"\"\"Initialize attributes to describe a car.\"\"\"\n",
    "        self.make = make\n",
    "        self.model = model\n",
    "        self.year = year\n",
    "        self.odometer_reading = 0\n",
    "        \n",
    "    def get_descriptive_name(self):\n",
    "        \"\"\"Return a neatly formatted descriptive name.\"\"\"\n",
    "        self.long_name = str(self.year) + ' ' + self.make + ' ' + self.model\n",
    "        return self.long_name.title()\n",
    "\n",
    "    def read_odometer(self):  \n",
    "        \"\"\"Print a statement showing the car's mileage.\"\"\"\n",
    "        print(\"This car has \" + str(self.odometer_reading) + \" miles on it.\")\n",
    "        \n",
    "    def update_odometer(self, mileage):    \n",
    "        \"\"\"Set the odometer reading to the given value.\"\"\"\n",
    "        self.odometer_reading = mileage\n",
    "\n",
    "class Battery():\n",
    "    \"\"\"A simple attempt to model a battery for an electric car.\"\"\"\n",
    "\n",
    "    def __init__(self, battery_size=70):\n",
    "        \"\"\"initialize the battery's attributes.\"\"\"\n",
    "        self.battery_size = battery_size\n",
    "            \n",
    "    def describe_battery(self):\n",
    "        \"\"\"Print a statement describing the battery size.\"\"\"\n",
    "        print(\"This car has a \" + str(self.battery_size) + \"-kWh battery.\")\n",
    "    \n",
    "    def upgrade_battery(self):\n",
    "        if self.battery_size == 70:\n",
    "            self.battery_size = 85\n",
    "            print(\"upgrade complete\")\n",
    "        else:\n",
    "            print(\"already upgraded\")\n",
    "            \n",
    "    def get_range(self):\n",
    "        \"\"\"Print a statement about the range this battery provides.\"\"\"\n",
    "        if self.battery_size == 70:\n",
    "            range = 240\n",
    "        else:\n",
    "            range = 270\n",
    "        message = \"This car can go approximately \" + str(range)\n",
    "        message += \" miles on a full charge\"\n",
    "        print(message)\n",
    "\n",
    "class ElectricCar(Car):\n",
    "    \"\"\"Represent aspects of a car, specific to electric vehicle.\"\"\"\n",
    "    \n",
    "    def __init__(self, make, model, year):\n",
    "        \"\"\"\n",
    "        initialize attributes of the parent class.\n",
    "        Then initialize attributes specific to an electric car.\n",
    "        \"\"\"\n",
    "        super().__init__(make, model, year)\n",
    "        self.battery = Battery()\n",
    "\n",
    "my_tesla = ElectricCar('tesla', 'model s', 2016)\n",
    "my_tesla.battery.get_range()\n",
    "my_tesla.battery.upgrade_battery()\n",
    "my_tesla.battery.get_range()"
   ]
  },
  {
   "cell_type": "markdown",
   "metadata": {},
   "source": [
    "## Importing Classes\n",
    "Let's Create a module containing just the `Car` class."
   ]
  },
  {
   "cell_type": "code",
   "execution_count": null,
   "metadata": {},
   "outputs": [],
   "source": [
    "#car.py\n",
    "\"\"\"A class that can be used to represent a car.\"\"\"\n",
    "class Car():\n",
    "    \"\"\"A simple attempt to represent a car.\"\"\"\n",
    "    \n",
    "    def __init__(self, make, model, year):\n",
    "        \"\"\"Initialize attributes to describe a car.\"\"\"\n",
    "        self.make = make\n",
    "        self.model = model\n",
    "        self.year = year\n",
    "        self.odometer_reading = 0\n",
    "        \n",
    "    def get_descriptive_name(self):\n",
    "        \"\"\"Return a neatly formatted descriptive name.\"\"\"\n",
    "        self.long_name = str(self.year) + ' ' + self.make + ' ' + self.model\n",
    "        return self.long_name.title()\n",
    "\n",
    "    def read_odometer(self):  \n",
    "        \"\"\"Print a statement showing the car's mileage.\"\"\"\n",
    "        print(\"This car has \" + str(self.odometer_reading) + \" miles on it.\")\n",
    "        \n",
    "    def update_odometer(self, mileage):    \n",
    "        \"\"\"Set the odometer reading to the given value.\"\"\"\n",
    "        self.odometer_reading = mileage"
   ]
  },
  {
   "cell_type": "code",
   "execution_count": null,
   "metadata": {},
   "outputs": [],
   "source": [
    "#my_car.py\n",
    "from car import Car\n",
    "  \n",
    "my_new_car = Car('audi', 'a4', 2016)\n",
    "print(my_new_car.get_descriptive_name())\n",
    "\n",
    "my_new_car.odometer_reading = 23\n",
    "my_new_car.read_odometer()"
   ]
  },
  {
   "cell_type": "markdown",
   "metadata": {},
   "source": [
    "### Storing Multiple Classes in a module\n",
    "You can store as many classes as you need in a single module, altough each class in a module should be related somehow. The classes Battry and ElectricCar Both represent cars.\n",
    "\n",
    "-- you can use `ElectricCar` class, even if you import only ElectricCar not the entire classes that are related to `ElectricCar`."
   ]
  },
  {
   "cell_type": "code",
   "execution_count": null,
   "metadata": {},
   "outputs": [],
   "source": [
    "#my_car.py\n",
    "from car import ElectricCar"
   ]
  },
  {
   "cell_type": "markdown",
   "metadata": {},
   "source": [
    "### Importing Multiple Classes from a Module\n",
    "You can import as many classes as you need into a program file.\n"
   ]
  },
  {
   "cell_type": "code",
   "execution_count": null,
   "metadata": {},
   "outputs": [],
   "source": [
    "from car import Car,ElectricCar"
   ]
  },
  {
   "cell_type": "markdown",
   "metadata": {},
   "source": [
    "### Importing an Entire Module\n",
    " You can also import an entire module and then access the classes you need using dot notation. This approach is simple and results in code that is easy to read. Because every call that creates an instance of a class includes the module name, you won't have naming conflicts with any names used in the current file."
   ]
  },
  {
   "cell_type": "code",
   "execution_count": null,
   "metadata": {},
   "outputs": [],
   "source": [
    "import car\n",
    "\n",
    "my_beetle = car.Car(\"Volkswagen\", \"beetle\", 2016)\n",
    "print(my_beetle.get_descriptive_name())"
   ]
  },
  {
   "cell_type": "markdown",
   "metadata": {},
   "source": [
    "because we import the entire `car` module. We then acces the classes we need through the `module_name.class_name` syntax."
   ]
  },
  {
   "cell_type": "markdown",
   "metadata": {},
   "source": [
    "### Importing All classes from a Module\n",
    "You can import every class from a module using the following syntax:"
   ]
  },
  {
   "cell_type": "code",
   "execution_count": null,
   "metadata": {},
   "outputs": [],
   "source": [
    "from module_name import * "
   ]
  },
  {
   "cell_type": "markdown",
   "metadata": {},
   "source": [
    "This method is not recommended for two reasons\n",
    "First. it's helpful to be able to read the `import` statements at the top of a file and get a clear sense of which classes a programs uses."
   ]
  },
  {
   "cell_type": "markdown",
   "metadata": {},
   "source": [
    "### Importing a Module into a Module\n",
    "Sometimes you'll want to spread out your classes over several modules to keep any one file from growing too large and avoid storing unrelated calsses in the same module. When you store your classes in several modules, you may find that a class in one depends on a class in another module. When this happens, you can import the required class into the first module"
   ]
  },
  {
   "cell_type": "code",
   "execution_count": null,
   "metadata": {},
   "outputs": [],
   "source": [
    "#electric_car.py\n",
    "\"\"\"A set of classes that can be used to represent electric cars.\"\"\"\n",
    "from car import Car ### add this\n",
    "\n",
    "class Battery():\n",
    "    \"\"\"A simple attempt to model a battery for an electric car.\"\"\"\n",
    "\n",
    "    def __init__(self, battery_size=70):\n",
    "        \"\"\"initialize the battery's attributes.\"\"\"\n",
    "        self.battery_size = battery_size\n",
    "            \n",
    "    def describe_battery(self):\n",
    "        \"\"\"Print a statement describing the battery size.\"\"\"\n",
    "        print(\"This car has a \" + str(self.battery_size) + \"-kWh battery.\")\n",
    "    \n",
    "    def upgrade_battery(self):\n",
    "        if self.battery_size == 70:\n",
    "            self.battery_size = 85\n",
    "            print(\"upgrade complete\")\n",
    "        else:\n",
    "            print(\"already upgraded\")\n",
    "            \n",
    "    def get_range(self):\n",
    "        \"\"\"Print a statement about the range this battery provides.\"\"\"\n",
    "        if self.battery_size == 70:\n",
    "            range = 240\n",
    "        else:\n",
    "            range = 270\n",
    "        message = \"This car can go approximately \" + str(range)\n",
    "        message += \" miles on a full charge\"\n",
    "        print(message)\n",
    "\n",
    "class ElectricCar(Car):\n",
    "    \"\"\"Represent aspects of a car, specific to electric vehicle.\"\"\"\n",
    "    \n",
    "    def __init__(self, make, model, year):\n",
    "        \"\"\"\n",
    "        initialize attributes of the parent class.\n",
    "        Then initialize attributes specific to an electric car.\n",
    "        \"\"\"\n",
    "        super().__init__(make, model, year)\n",
    "        self.battery = Battery()"
   ]
  },
  {
   "cell_type": "code",
   "execution_count": null,
   "metadata": {},
   "outputs": [],
   "source": [
    "#car.py\n",
    "\"A class that can be used to represent a car\"\n",
    "class Car():\n",
    "    \"\"\"A simple attempt to represent a car.\"\"\"\n",
    "    \n",
    "    def __init__(self, make, model, year):\n",
    "        \"\"\"Initialize attributes to describe a car.\"\"\"\n",
    "        self.make = make\n",
    "        self.model = model\n",
    "        self.year = year\n",
    "        self.odometer_reading = 0\n",
    "        \n",
    "    def get_descriptive_name(self):\n",
    "        \"\"\"Return a neatly formatted descriptive name.\"\"\"\n",
    "        self.long_name = str(self.year) + ' ' + self.make + ' ' + self.model\n",
    "        return self.long_name.title()\n",
    "\n",
    "    def read_odometer(self):  \n",
    "        \"\"\"Print a statement showing the car's mileage.\"\"\"\n",
    "        print(\"This car has \" + str(self.odometer_reading) + \" miles on it.\")\n",
    "        \n",
    "    def update_odometer(self, mileage):    \n",
    "        \"\"\"Set the odometer reading to the given value.\"\"\"\n",
    "        self.odometer_reading = mileage"
   ]
  },
  {
   "cell_type": "code",
   "execution_count": null,
   "metadata": {},
   "outputs": [],
   "source": [
    "from car import Car\n",
    "from electric_car import ElectricCar\n",
    "\n",
    "my_beetle = Car(\"volkswagen\", \"beetle\", 2016)\n",
    "print(my_beetle.get_descriptive_name())\n",
    "\n",
    "my_tesla = ElectricCar('tesla', 'roadster', 2016)\n",
    "print(my_tesla.get_descriptive_name())\n"
   ]
  },
  {
   "cell_type": "markdown",
   "metadata": {},
   "source": [
    "### Finding Your own Workflow\n",
    "As you can see, Python gives you many options for how to structure code in a large project.\n",
    "It's important to all these possibilities so you can determine the best ways to organize your projects as well as understand other people's projects.\n",
    "    When you're starting out, keep your code structure simple. Try doing everything in one file and moving your classes to separate modules once everything is working. If you like how modules and files interact, try storing your classes in modules when you start a proejct. Find an approach that lets you write code that works, and go from there."
   ]
  },
  {
   "cell_type": "markdown",
   "metadata": {},
   "source": [
    "#9-10 ~ 9-12 done on local computer"
   ]
  },
  {
   "cell_type": "markdown",
   "metadata": {},
   "source": [
    "## The Python Standard Library\n",
    "The `Python standard library` is a set of modules included with every Python installation. Now that you have a basic understanding of how classes work, you can start to use modules like these that other programmers have written. You can use any function or class in the standard library by including a simple `import` statement at the top of your file. Let's look at one class `OrderedDict`, from the module `collections`."
   ]
  },
  {
   "cell_type": "code",
   "execution_count": null,
   "metadata": {},
   "outputs": [],
   "source": [
    "from collections import OrderedDict\n",
    "\n",
    "favorite_languages = orderedDict()\n",
    "\n",
    "favorite_languages['jen'] = 'Python'\n",
    "\n",
    "--snip---"
   ]
  },
  {
   "cell_type": "code",
   "execution_count": 39,
   "metadata": {},
   "outputs": [
    {
     "name": "stdout",
     "output_type": "stream",
     "text": [
      "2\n",
      "5\n",
      "5\n",
      "6\n",
      "5\n",
      "6\n",
      "6\n",
      "4\n",
      "3\n",
      "4\n",
      "\n",
      "1\n",
      "2\n",
      "6\n",
      "9\n",
      "6\n",
      "5\n",
      "9\n",
      "10\n",
      "2\n",
      "\n",
      "19\n",
      "14\n",
      "5\n",
      "9\n",
      "8\n",
      "11\n",
      "15\n",
      "6\n",
      "9\n",
      "2\n",
      "15\n",
      "4\n"
     ]
    }
   ],
   "source": [
    "###tiy9-14\n",
    "from random import randint\n",
    "class Die():\n",
    "    \n",
    "    def __init__(self, maxnum):\n",
    "        self.side = 6\n",
    "        self.maxnum = maxnum\n",
    "    def roll_die(self):\n",
    "        self.side = randint(1,self.maxnum)\n",
    "        print(self.side)\n",
    "        \n",
    "six_sided = Die(6)\n",
    "ten_sided = Die(10)\n",
    "twenty_sided = Die(20)\n",
    "\n",
    "six_sided.roll_die()\n",
    "six_sided.roll_die()\n",
    "six_sided.roll_die()\n",
    "six_sided.roll_die()\n",
    "six_sided.roll_die()\n",
    "six_sided.roll_die()\n",
    "six_sided.roll_die()\n",
    "six_sided.roll_die()\n",
    "six_sided.roll_die()\n",
    "six_sided.roll_die()\n",
    "print()\n",
    "ten_sided.roll_die()\n",
    "ten_sided.roll_die()\n",
    "ten_sided.roll_die()\n",
    "ten_sided.roll_die()\n",
    "ten_sided.roll_die()\n",
    "ten_sided.roll_die()\n",
    "ten_sided.roll_die()\n",
    "ten_sided.roll_die()\n",
    "ten_sided.roll_die()\n",
    "print()\n",
    "\n",
    "\n",
    "twenty_sided.roll_die()\n",
    "twenty_sided.roll_die()\n",
    "twenty_sided.roll_die()\n",
    "twenty_sided.roll_die()\n",
    "twenty_sided.roll_die()\n",
    "twenty_sided.roll_die()\n",
    "twenty_sided.roll_die()\n",
    "twenty_sided.roll_die()\n",
    "twenty_sided.roll_die()\n",
    "twenty_sided.roll_die()\n",
    "twenty_sided.roll_die()\n",
    "twenty_sided.roll_die()\n",
    "\n",
    "\n",
    "\n"
   ]
  },
  {
   "cell_type": "markdown",
   "metadata": {},
   "source": [
    "## Styling Classes\n",
    "\n",
    "A few styling issues related to classes are worth clarifying, especially as your programs become more complicated.\n",
    "    **Class names should be written in `CamelCaps`.**\n",
    "To do this, capitalize the first letter of each word in the name, and don't youse underscores.\n",
    "\n",
    "instance and module names should be written in lowercase with undersocres between words.\n",
    "\n",
    "    Every class "
   ]
  },
  {
   "cell_type": "markdown",
   "metadata": {},
   "source": [
    "Every class should have a docstring immediately following the class definition. The docstring should be a brief description of what the class does, and you should follow the same fomratting conventions you used for writing docstrings in fuctions. Each module should also have a docstring describing what the classsses in a module can be used for."
   ]
  },
  {
   "cell_type": "markdown",
   "metadata": {},
   "source": [
    "You can use blank lines to organize code, but don't use them excessively. Within a class you can use one blank line betwwen methods, and within a module you can use two blank lines to separate calsses."
   ]
  },
  {
   "cell_type": "markdown",
   "metadata": {},
   "source": [
    "If you need to import a module from the standard library and module that you wrote, place the import statement for the standard library module first. Then add a blank line and the import statement for the module you wrote. In programs with multiple improt statements, this convention makes it easier to see where the different modules used in the program come from.\n"
   ]
  },
  {
   "cell_type": "code",
   "execution_count": null,
   "metadata": {},
   "outputs": [],
   "source": []
  },
  {
   "cell_type": "code",
   "execution_count": null,
   "metadata": {},
   "outputs": [],
   "source": []
  },
  {
   "cell_type": "code",
   "execution_count": null,
   "metadata": {},
   "outputs": [],
   "source": []
  },
  {
   "cell_type": "code",
   "execution_count": null,
   "metadata": {},
   "outputs": [],
   "source": []
  },
  {
   "cell_type": "code",
   "execution_count": null,
   "metadata": {},
   "outputs": [],
   "source": []
  }
 ],
 "metadata": {
  "kernelspec": {
   "display_name": "Python 3",
   "language": "python",
   "name": "python3"
  },
  "language_info": {
   "codemirror_mode": {
    "name": "ipython",
    "version": 3
   },
   "file_extension": ".py",
   "mimetype": "text/x-python",
   "name": "python",
   "nbconvert_exporter": "python",
   "pygments_lexer": "ipython3",
   "version": "3.7.2"
  }
 },
 "nbformat": 4,
 "nbformat_minor": 2
}
